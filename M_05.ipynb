{
 "cells": [
  {
   "cell_type": "markdown",
   "metadata": {},
   "source": [
    "# To build a trained model:"
   ]
  },
  {
   "cell_type": "code",
   "execution_count": 1,
   "metadata": {},
   "outputs": [],
   "source": [
    "import os\n",
    "os.environ['KMP_DUPLICATE_LIB_OK']='TRUE'"
   ]
  },
  {
   "cell_type": "code",
   "execution_count": 2,
   "metadata": {},
   "outputs": [],
   "source": [
    "import cv2\n",
    "import numpy as np\n",
    "import os"
   ]
  },
  {
   "cell_type": "code",
   "execution_count": 3,
   "metadata": {},
   "outputs": [],
   "source": [
    "recognizer = cv2.face.LBPHFaceRecognizer_create()\n",
    "recognizer.read('trainer/trainer.yml')\n",
    "cascadepath = \"haarcascade_frontalface_default.xml\"\n",
    "faceCascade = cv2.CascadeClassifier(cascadePath);\n",
    "\n",
    "font = cv2.FONT_HERSHEY_SIMPLEX"
   ]
  },
  {
   "cell_type": "code",
   "execution_count": null,
   "metadata": {},
   "outputs": [],
   "source": [
    "#iniciate id counter\n",
    "id = 0\n",
    "\n",
    "# names related to ids: example ==> Marcelo: id=1, etc\n",
    "names = ['None', 'Person-A', 'P', 'Ilza', 'Z', 'W']\n",
    "# Initialize and start realtime video capture\n",
    "cam = cv2.VideoCapture('B1.mp4')\n",
    "cam.set(3, 640) # set video widht\n",
    "cam.set(4, 480) # set video height"
   ]
  },
  {
   "cell_type": "code",
   "execution_count": null,
   "metadata": {},
   "outputs": [],
   "source": [
    "# Define min window size to be recognized as a face\n",
    "minW = 0.1*cam.get(3)\n",
    "minH = 0.1*cam.get(4)\n",
    "while True:\n",
    "ret, img =cam.read()\n",
    "\n",
    "faces = faceCascade.detectMultiScale(\n",
    "gray,\n",
    "scaleFactor = 1.2,\n",
    "minNeighbors = 5,\n",
    "minSize = (int(minW), int(minH)),\n",
    ")\n",
    "for(x,y,w,h) in faces:\n",
    "cv2.rectangle(img, (x,y), (x+w,y+h), (0,255,0), 2)\n",
    "id, confidence = recognizer.predict(gray[y:y+h,x:x+w])\n",
    "# Check if confidence is less them 100 ==> \"0\" is perfect match\n",
    "if (confidence <=30):\n",
    "id = names[id]\n",
    "confidence = \"\".format(round(100 - confidence))\n",
    "else:\n",
    "id = \"\"\n",
    "confidence = \"\".format(round(100 - confidence))\n",
    "cv2.putText(img, str(id), (x+5,y-5), font, 1, (255,255,255), 2)\n",
    "cv2.imshow('camera',img)\n",
    "k = cv2.waitKey(1) & 0xff # Press 'ESC' for exiting video\n",
    "if k == 27:\n",
    "break\n",
    "# Do a bit of cleanup\n",
    "print(\"\\n [INFO] Exiting Program and cleanup stuff\")\n",
    "cam.release()\n",
    "cv2.destroyAllWindows()"
   ]
  }
 ],
 "metadata": {
  "kernelspec": {
   "display_name": "Python 3",
   "language": "python",
   "name": "python3"
  },
  "language_info": {
   "codemirror_mode": {
    "name": "ipython",
    "version": 3
   },
   "file_extension": ".py",
   "mimetype": "text/x-python",
   "name": "python",
   "nbconvert_exporter": "python",
   "pygments_lexer": "ipython3",
   "version": "3.9.4"
  }
 },
 "nbformat": 4,
 "nbformat_minor": 2
}
